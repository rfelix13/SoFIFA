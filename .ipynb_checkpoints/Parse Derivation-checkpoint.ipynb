{
 "cells": [
  {
   "cell_type": "markdown",
   "metadata": {},
   "source": [
    "# <center>Parse Function Derivations</center>"
   ]
  },
  {
   "cell_type": "markdown",
   "metadata": {},
   "source": [
    "Here we need to figure out how to extract all the data from the player table on sofifa.com. This notebook will document the process of figuring this out!"
   ]
  },
  {
   "cell_type": "markdown",
   "metadata": {},
   "source": [
    "### Replicate the Scrapy shell in the Notebook"
   ]
  },
  {
   "cell_type": "markdown",
   "metadata": {},
   "source": [
    "Here is a gem to help us use the equivalent of the scrapy shell in a Jupyter Notebook:\n",
    "\n",
    "https://stackoverflow.com/questions/49908158/using-scrapy-in-jupyter-notebook-accessing-response-directly"
   ]
  },
  {
   "cell_type": "code",
   "execution_count": 1,
   "metadata": {},
   "outputs": [],
   "source": [
    "import requests\n",
    "from scrapy.http import TextResponse\n",
    "import re\n",
    "\n",
    "res=requests.get('https://sofifa.com/players')\n",
    "response=TextResponse(res.url, body=res.text, encoding='utf-8')"
   ]
  },
  {
   "cell_type": "markdown",
   "metadata": {},
   "source": [
    "## URL Spider Parser"
   ]
  },
  {
   "cell_type": "markdown",
   "metadata": {},
   "source": [
    "### Find the URLs for the players on the page"
   ]
  },
  {
   "cell_type": "code",
   "execution_count": 2,
   "metadata": {},
   "outputs": [
    {
     "data": {
      "text/plain": [
       "['https://sofifa.com/players/player/222665/martin-odegaard/200011/',\n",
       " 'https://sofifa.com/players/player/239956/myron-boadu/200011/',\n",
       " 'https://sofifa.com/players/player/225193/mikel-merino-zazon/200011/',\n",
       " 'https://sofifa.com/players/player/202652/raheem-sterling/200011/',\n",
       " 'https://sofifa.com/players/player/229167/milot-rashica/200011/']"
      ]
     },
     "execution_count": 2,
     "metadata": {},
     "output_type": "execute_result"
    }
   ],
   "source": [
    "urls = response.css('a.nowrap::attr(href)').getall()            #.re('href=\"(.*)\" ')\n",
    "urls = ['https://sofifa.com/players'+ x for x in urls]\n",
    "urls[2:7]"
   ]
  },
  {
   "cell_type": "markdown",
   "metadata": {},
   "source": [
    "### Get the link to the next page "
   ]
  },
  {
   "cell_type": "code",
   "execution_count": 3,
   "metadata": {},
   "outputs": [
    {
     "data": {
      "text/plain": [
       "'https://sofifa.com/players?offset=60'"
      ]
     },
     "execution_count": 3,
     "metadata": {},
     "output_type": "execute_result"
    }
   ],
   "source": [
    "# We need to get urls from all pages, so lets get the next link...\n",
    "\n",
    "next_page='https://sofifa.com'+response.css('.pagination a::attr(href)').getall()[-1] \n",
    "next_page"
   ]
  },
  {
   "cell_type": "code",
   "execution_count": 49,
   "metadata": {},
   "outputs": [
    {
     "data": {
      "text/plain": [
       "True"
      ]
     },
     "execution_count": 49,
     "metadata": {},
     "output_type": "execute_result"
    }
   ],
   "source": [
    "# We need this statement to make sure that we are only using current players in the game\n",
    "# We will create an if statement in the parse definition for the URL Spider\n",
    "\n",
    "'Nov  2019' in response.css('.carousel-cell.is-initial-select.selected span::text').get()"
   ]
  },
  {
   "cell_type": "markdown",
   "metadata": {},
   "source": [
    "## Stats Spider Parser\n",
    "The hard part..."
   ]
  },
  {
   "cell_type": "markdown",
   "metadata": {},
   "source": [
    "### Go to a player URL"
   ]
  },
  {
   "cell_type": "code",
   "execution_count": 4,
   "metadata": {},
   "outputs": [],
   "source": [
    "res=requests.get('https://sofifa.com/player/242444/joao-felix-sequeira/200010/')\n",
    "response=TextResponse(res.url, body=res.text, encoding='utf-8')"
   ]
  },
  {
   "cell_type": "markdown",
   "metadata": {},
   "source": [
    "<img src='https://i.imgur.com/n1Y96El.png'/>"
   ]
  },
  {
   "cell_type": "markdown",
   "metadata": {},
   "source": [
    "<img src='https://i.imgur.com/PPRGXk4.png'/>"
   ]
  },
  {
   "cell_type": "markdown",
   "metadata": {},
   "source": [
    "<center>Here are all the different attributes that we need to scrape from the site. I will figure out what code I need to write using the inspect element tool in Chrome. Then I will store all the data in a dictionary.</center>"
   ]
  },
  {
   "cell_type": "code",
   "execution_count": 44,
   "metadata": {},
   "outputs": [],
   "source": [
    "# We can redo this so that we can test all different kinds of players\n",
    "\n",
    "res=requests.get('https://sofifa.com/player/121944/bastian-schweinsteiger/200011/')\n",
    "response=TextResponse(res.url, body=res.text, encoding='utf-8')"
   ]
  },
  {
   "cell_type": "markdown",
   "metadata": {},
   "source": [
    "### Player Header Info"
   ]
  },
  {
   "cell_type": "code",
   "execution_count": 6,
   "metadata": {},
   "outputs": [],
   "source": [
    "sd={}  # Here is our player stats dictionary"
   ]
  },
  {
   "cell_type": "code",
   "execution_count": 7,
   "metadata": {},
   "outputs": [
    {
     "name": "stdout",
     "output_type": "stream",
     "text": [
      "R. Finnie\n",
      "227546\n"
     ]
    }
   ],
   "source": [
    "# Name and SoFIFA ID\n",
    "name,ID=response.css('.info h1::text').getall()[0].split('(')\n",
    "\n",
    "name=name[:-1]\n",
    "ID=ID[4:-2]\n",
    "\n",
    "print(name)\n",
    "print(ID)\n",
    "\n",
    "sd['name']=name\n",
    "sd['id']=ID"
   ]
  },
  {
   "cell_type": "code",
   "execution_count": 8,
   "metadata": {},
   "outputs": [
    {
     "name": "stdout",
     "output_type": "stream",
     "text": [
      "Ryan Finnie\n",
      "Scotland\n",
      "['RB']\n"
     ]
    }
   ],
   "source": [
    "# Full Name, Country, Position(s)\n",
    "sd['full_name'] = response.css('.bp3-text-overflow-ellipsis::text').get()[:-1]\n",
    "sd['country'] = response.css('.bp3-text-overflow-ellipsis a::attr(title)').get()\n",
    "sd['positions'] = response.css('.meta.bp3-text-overflow-ellipsis span').re('>(.*)<')\n",
    "\n",
    "print(sd['full_name'])\n",
    "print(sd['country'])\n",
    "print(sd['positions'])"
   ]
  },
  {
   "cell_type": "code",
   "execution_count": 9,
   "metadata": {},
   "outputs": [
    {
     "name": "stdout",
     "output_type": "stream",
     "text": [
      "19\n",
      "Feb 19, 1995\n",
      "72\n",
      "170\n"
     ]
    }
   ],
   "source": [
    "# Age, DOB, Height, Weight\n",
    "helper = response.css('.meta.bp3-text-overflow-ellipsis::text').getall()[-1].split()\n",
    "\n",
    "sd['age']=int(helper[1])\n",
    "dob=helper[2]+' '+helper[3]+' '+helper[4]\n",
    "sd['dob']=dob[1:-1]\n",
    "\n",
    "ht=helper[5]\n",
    "ht=ht.split(ht[1])\n",
    "ht[1]=ht[1].replace('\"','')\n",
    "sd['height']=int(ht[0])*12+int(ht[1])\n",
    "\n",
    "\n",
    "sd['weight']=int(helper[6][:3])\n",
    "\n",
    "\n",
    "print(sd['age'])\n",
    "print(sd['dob'])\n",
    "print(sd['height'])\n",
    "print(sd['weight'])"
   ]
  },
  {
   "cell_type": "code",
   "execution_count": 10,
   "metadata": {},
   "outputs": [
    {
     "name": "stdout",
     "output_type": "stream",
     "text": [
      "54\n",
      "67\n",
      "€60K\n",
      "€2K\n"
     ]
    }
   ],
   "source": [
    "# Overall Rating, Potential, Value, Wage\n",
    "\n",
    "helper = response.css('.column.col-4.text-center span::text').getall()\n",
    "for x in helper:\n",
    "    if x[0]=='+':\n",
    "        helper.remove(x)\n",
    "\n",
    "sd['overall']=int(helper[0])\n",
    "sd['potential']=int(helper[1])\n",
    "sd['value'],sd['wage']=helper[2:4]\n",
    "\n",
    "print(sd['overall'])\n",
    "print(sd['potential'])\n",
    "print(sd['value'])\n",
    "print(sd['wage'])"
   ]
  },
  {
   "cell_type": "markdown",
   "metadata": {},
   "source": [
    "### Preferred Foot Column"
   ]
  },
  {
   "cell_type": "code",
   "execution_count": 11,
   "metadata": {},
   "outputs": [
    {
     "name": "stdout",
     "output_type": "stream",
     "text": [
      "['Preferred Foot', 'International Reputation', 'Weak Foot', 'Skill Moves', 'Work Rate', 'Body Type', 'Real Face']\n",
      "['\\n', 'Right', '\\n', '1 ', '\\n', '2 ', '\\n', '2 ', '\\n', '\\n', '\\n', '\\n', '\\n', '\\n']\n"
     ]
    }
   ],
   "source": [
    "# Here are our variable names and some of the values\n",
    "print(response.css('.column.col-6 ul.bp3-text-overflow-ellipsis.pl li label::text').getall())\n",
    "print(response.css('.column.col-6 ul.bp3-text-overflow-ellipsis.pl li::text').getall())"
   ]
  },
  {
   "cell_type": "code",
   "execution_count": 12,
   "metadata": {},
   "outputs": [
    {
     "name": "stdout",
     "output_type": "stream",
     "text": [
      "Right\n",
      "1\n",
      "2\n",
      "2\n"
     ]
    }
   ],
   "source": [
    "# Preferred Foot, International Reputation, Weak Foot, Skill Moves\n",
    "\n",
    "sd['preferred_foot'],int_rep,weak_foot,skill_moves = response.css('.column.col-6 ul.bp3-text-overflow-ellipsis.pl li::text').getall()[1:8:2]\n",
    "\n",
    "sd['int_rep']=int(int_rep)\n",
    "sd['weak_foot']=int(weak_foot)\n",
    "sd['skill_moves']=int(skill_moves)\n",
    "\n",
    "print(sd['preferred_foot'])\n",
    "print(sd['int_rep'])\n",
    "print(sd['weak_foot'])\n",
    "print(sd['skill_moves'])"
   ]
  },
  {
   "cell_type": "code",
   "execution_count": 13,
   "metadata": {},
   "outputs": [
    {
     "name": "stdout",
     "output_type": "stream",
     "text": [
      "Medium/ Medium\n",
      "Lean\n",
      "No\n",
      "None\n"
     ]
    }
   ],
   "source": [
    "# Work Rate, Body Type, Real Face, Release Clause\n",
    "helper=response.css('.column.col-6 ul.bp3-text-overflow-ellipsis.pl li span::text').getall()\n",
    "\n",
    "sd['work_rate']=helper[0]\n",
    "sd['body_type']=helper[1]\n",
    "sd['real_face']=helper[2]\n",
    "try:\n",
    "    sd['release_clause'] = helper[3]\n",
    "except:\n",
    "    sd['release_clause']=None\n",
    "\n",
    "print(sd['work_rate'])\n",
    "print(sd['body_type'])\n",
    "print(sd['real_face'])\n",
    "print(sd['release_clause'])"
   ]
  },
  {
   "cell_type": "markdown",
   "metadata": {},
   "source": [
    "### Club/National Team Details"
   ]
  },
  {
   "cell_type": "code",
   "execution_count": 14,
   "metadata": {},
   "outputs": [
    {
     "name": "stdout",
     "output_type": "stream",
     "text": [
      "[' ', '19', 'Jan 29, 2015', '2015']\n",
      "['62', 'SUB']\n",
      "['Partick Thistle FC']\n"
     ]
    }
   ],
   "source": [
    "# Here are all the values we need\n",
    "\n",
    "print(response.css('.bp3-text-overflow-ellipsis.pl.text-right li::text').getall())\n",
    "print(response.css('.bp3-text-overflow-ellipsis.pl.text-right li span::text').getall())\n",
    "print(response.css('.bp3-text-overflow-ellipsis.pl.text-right li h6').re('\\\">(.*)</a>'))"
   ]
  },
  {
   "cell_type": "code",
   "execution_count": 15,
   "metadata": {},
   "outputs": [
    {
     "data": {
      "text/plain": [
       "[' ', '19', 'Jan 29, 2015', '2015']"
      ]
     },
     "execution_count": 15,
     "metadata": {},
     "output_type": "execute_result"
    }
   ],
   "source": [
    "response.css('.bp3-text-overflow-ellipsis.pl.text-right li::text').getall()"
   ]
  },
  {
   "cell_type": "code",
   "execution_count": 16,
   "metadata": {},
   "outputs": [
    {
     "name": "stdout",
     "output_type": "stream",
     "text": [
      "Partick Thistle FC\n",
      "62\n",
      "SUB\n",
      "19\n"
     ]
    }
   ],
   "source": [
    "# Club, Club Rating, Club Position, Jersey Number\n",
    "\n",
    "try: \n",
    "    sd['club']=response.css('.bp3-text-overflow-ellipsis.pl.text-right li h6').re('\\\">(.*)</a>')[0]\n",
    "except:\n",
    "    sd['club']=None\n",
    "\n",
    "try:\n",
    "    sd['club_rating']=response.css('.bp3-text-overflow-ellipsis.pl.text-right li span::text').getall()[0]\n",
    "    sd['club_position']=response.css('.bp3-text-overflow-ellipsis.pl.text-right li span::text').getall()[1]\n",
    "    sd['jersey_number']=response.css('.bp3-text-overflow-ellipsis.pl.text-right li::text').getall()[1]\n",
    "#sd['joined']=response.css('.bp3-text-overflow-ellipsis.pl.text-right li::text').getall()[2]\n",
    "#sd['contract_expir']=response.css('.bp3-text-overflow-ellipsis.pl.text-right li::text').getall()[3]\n",
    "except:\n",
    "    sd['club_rating']=None\n",
    "    sd['club_position']=None\n",
    "    sd['jersey_number']=None\n",
    "\n",
    "\n",
    "print(sd['club'])\n",
    "print(sd['club_rating'])\n",
    "print(sd['club_position'])\n",
    "print(sd['jersey_number'])\n",
    "\n"
   ]
  },
  {
   "cell_type": "code",
   "execution_count": 17,
   "metadata": {},
   "outputs": [
    {
     "name": "stdout",
     "output_type": "stream",
     "text": [
      "None\n",
      "None\n",
      "None\n",
      "None\n"
     ]
    }
   ],
   "source": [
    "# Country, country_rating, country_position, country_jersey\n",
    "\n",
    "try: \n",
    "    sd['national_team']=response.css('.bp3-text-overflow-ellipsis.pl.text-right li h6').re('\\\">(.*)</a>')[1]\n",
    "except: \n",
    "    sd['national_team']=None\n",
    "try:\n",
    "    sd['nt_rating']=response.css('.bp3-text-overflow-ellipsis.pl.text-right li span::text').getall()[2]\n",
    "except:\n",
    "    sd['nt_rating']=None    \n",
    "try:    \n",
    "    sd['nt_position']=response.css('.bp3-text-overflow-ellipsis.pl.text-right li span::text').getall()[3]\n",
    "except:\n",
    "    sd['nt_position']=None    \n",
    "try:    \n",
    "    sd['nt_jersey']=response.css('.bp3-text-overflow-ellipsis.pl.text-right li::text').getall()[5]\n",
    "except:\n",
    "    sd['nt_jersey']=None\n",
    "    \n",
    "    \n",
    "print(sd['national_team'])\n",
    "print(sd['nt_rating'])\n",
    "print(sd['nt_position'])\n",
    "print(sd['nt_jersey'])"
   ]
  },
  {
   "cell_type": "markdown",
   "metadata": {},
   "source": [
    "### All Attributes"
   ]
  },
  {
   "cell_type": "code",
   "execution_count": 18,
   "metadata": {},
   "outputs": [
    {
     "name": "stdout",
     "output_type": "stream",
     "text": [
      "['Medium/ Medium', 'Lean', 'No', '62', 'SUB', '50', 'Crossing', '22', 'Finishing', '48', 'Heading Accuracy', '46', 'Short Passing', '28', 'Volleys', '57', 'Dribbling', '31', 'Curve', '29', 'FK Accuracy', '44', 'Long Passing', '44', 'Ball Control', '65', 'Acceleration', '65', 'Sprint Speed', '51', 'Agility', '49', 'Reactions', '59', 'Balance', '28', 'Shot Power', '61', 'Jumping', '60', 'Stamina', '59', 'Strength', '25', 'Long Shots', '56', 'Aggression', '55', 'Interceptions', '51', 'Positioning', '37', 'Vision', '34', 'Penalties', '48', 'Marking', '60', 'Standing Tackle', '59', 'Sliding Tackle', '12', '6', '11', '15', '11']\n"
     ]
    }
   ],
   "source": [
    "print(response.css('ul li span::text').getall())"
   ]
  },
  {
   "cell_type": "code",
   "execution_count": 19,
   "metadata": {},
   "outputs": [
    {
     "name": "stdout",
     "output_type": "stream",
     "text": [
      "['50', 'Crossing', '22', 'Finishing', '48', 'Heading Accuracy', '46', 'Short Passing', '28', 'Volleys', '57', 'Dribbling', '31', 'Curve', '29', 'FK Accuracy', '44', 'Long Passing', '44', 'Ball Control', '65', 'Acceleration', '65', 'Sprint Speed', '51', 'Agility', '49', 'Reactions', '59', 'Balance', '28', 'Shot Power', '61', 'Jumping', '60', 'Stamina', '59', 'Strength', '25', 'Long Shots', '56', 'Aggression', '55', 'Interceptions', '51', 'Positioning', '37', 'Vision', '34', 'Penalties', '48', 'Marking', '60', 'Standing Tackle', '59', 'Sliding Tackle', '12', '6', '11', '15', '11']\n"
     ]
    }
   ],
   "source": [
    "# We can get most of our attributes with this command\n",
    "# We have already delt with the items in the list from 0-7th index position\n",
    "\n",
    "#if sd['national_team']==None:\n",
    "    #att_list = response.css('ul li span::text').getall()[6:]\n",
    "#else:\n",
    "    #att_list = response.css('ul li span::text').getall()[8:]\n",
    "    \n",
    "helper=response.css('ul li span::text').getall()\n",
    "  \n",
    "# We need to remove any notices that the attribute has increased\n",
    "\n",
    "for x in helper:\n",
    "    if x[0]=='+':\n",
    "        helper.remove(x)\n",
    "    elif x[0]=='-':\n",
    "        helper.remove(x)\n",
    "        \n",
    "att_list=helper[(helper.index('Crossing')-1):]        \n",
    "\n",
    "print(att_list)\n",
    "\n"
   ]
  },
  {
   "cell_type": "code",
   "execution_count": 20,
   "metadata": {},
   "outputs": [
    {
     "ename": "IndexError",
     "evalue": "list index out of range",
     "output_type": "error",
     "traceback": [
      "\u001b[0;31m---------------------------------------------------------------------------\u001b[0m",
      "\u001b[0;31mIndexError\u001b[0m                                Traceback (most recent call last)",
      "\u001b[0;32m<ipython-input-20-821f80053a21>\u001b[0m in \u001b[0;36m<module>\u001b[0;34m\u001b[0m\n\u001b[1;32m     14\u001b[0m \u001b[0mfixed_list\u001b[0m\u001b[0;34m.\u001b[0m\u001b[0mappend\u001b[0m\u001b[0;34m(\u001b[0m\u001b[0matt_list\u001b[0m\u001b[0;34m[\u001b[0m\u001b[0;36m60\u001b[0m\u001b[0;34m]\u001b[0m\u001b[0;34m)\u001b[0m\u001b[0;34m\u001b[0m\u001b[0;34m\u001b[0m\u001b[0m\n\u001b[1;32m     15\u001b[0m \u001b[0mfixed_list\u001b[0m\u001b[0;34m.\u001b[0m\u001b[0mappend\u001b[0m\u001b[0;34m(\u001b[0m\u001b[0;34m'GK Positioning'\u001b[0m\u001b[0;34m)\u001b[0m\u001b[0;34m\u001b[0m\u001b[0;34m\u001b[0m\u001b[0m\n\u001b[0;32m---> 16\u001b[0;31m \u001b[0mfixed_list\u001b[0m\u001b[0;34m.\u001b[0m\u001b[0mappend\u001b[0m\u001b[0;34m(\u001b[0m\u001b[0matt_list\u001b[0m\u001b[0;34m[\u001b[0m\u001b[0;36m61\u001b[0m\u001b[0;34m]\u001b[0m\u001b[0;34m)\u001b[0m\u001b[0;34m\u001b[0m\u001b[0;34m\u001b[0m\u001b[0m\n\u001b[0m\u001b[1;32m     17\u001b[0m \u001b[0mfixed_list\u001b[0m\u001b[0;34m.\u001b[0m\u001b[0mappend\u001b[0m\u001b[0;34m(\u001b[0m\u001b[0;34m'GK Reflexes'\u001b[0m\u001b[0;34m)\u001b[0m\u001b[0;34m\u001b[0m\u001b[0;34m\u001b[0m\u001b[0m\n\u001b[1;32m     18\u001b[0m \u001b[0mfixed_list\u001b[0m\u001b[0;34m.\u001b[0m\u001b[0mextend\u001b[0m\u001b[0;34m(\u001b[0m\u001b[0matt_list\u001b[0m\u001b[0;34m[\u001b[0m\u001b[0;36m62\u001b[0m\u001b[0;34m:\u001b[0m\u001b[0;34m]\u001b[0m\u001b[0;34m)\u001b[0m\u001b[0;34m\u001b[0m\u001b[0;34m\u001b[0m\u001b[0m\n",
      "\u001b[0;31mIndexError\u001b[0m: list index out of range"
     ]
    }
   ],
   "source": [
    "# We want to keep the format as attribute then name, over and over in the list\n",
    "# We just have to adjust for the fact that some of the attribute names are not in a span\n",
    "# Our indices should be the same regardless of which player we look at\n",
    "\n",
    "\n",
    "fixed_list = att_list[:51]\n",
    "fixed_list.append('Composure')\n",
    "fixed_list.extend(att_list[51:58])\n",
    "fixed_list.append('GK Diving')\n",
    "fixed_list.append(att_list[58])\n",
    "fixed_list.append('GK Handling')\n",
    "fixed_list.append(att_list[59])\n",
    "fixed_list.append('GK Kicking')\n",
    "fixed_list.append(att_list[60])\n",
    "fixed_list.append('GK Positioning')\n",
    "fixed_list.append(att_list[61])\n",
    "fixed_list.append('GK Reflexes')\n",
    "fixed_list.extend(att_list[62:])\n",
    "\n",
    "\n",
    "for i in range(int((len(fixed_list[:68]))/2)):\n",
    "     sd[fixed_list[2*i+1].lower()]=int(fixed_list[2*i])\n"
   ]
  },
  {
   "cell_type": "code",
   "execution_count": null,
   "metadata": {},
   "outputs": [],
   "source": [
    "# Now for the last bit we just want to add the player's traits as a list\n",
    "\n",
    "sd['traits']=fixed_list[68:]\n",
    "sd"
   ]
  },
  {
   "cell_type": "markdown",
   "metadata": {},
   "source": [
    "That is everything we want! Now we have to copy all of this code into the parse function in the Scrapy Notebook, yield the \"sd\" dictionary and we should be good to go!"
   ]
  }
 ],
 "metadata": {
  "kernelspec": {
   "display_name": "Python 3",
   "language": "python",
   "name": "python3"
  },
  "language_info": {
   "codemirror_mode": {
    "name": "ipython",
    "version": 3
   },
   "file_extension": ".py",
   "mimetype": "text/x-python",
   "name": "python",
   "nbconvert_exporter": "python",
   "pygments_lexer": "ipython3",
   "version": "3.7.4"
  }
 },
 "nbformat": 4,
 "nbformat_minor": 2
}
